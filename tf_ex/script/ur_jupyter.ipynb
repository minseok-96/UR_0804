{
    "cells": [
        {
            "cell_type": "code",
            "execution_count": 5,
            "source": [
                "import sys\n",
                "import rospy\n",
                "import moveit_commander\n"
            ],
            "outputs": [],
            "metadata": {}
        },
        {
            "cell_type": "code",
            "execution_count": 6,
            "source": [
                "rospy.init_node(\"test_ur\", anonymous=True)\n",
                "moveit_commander.roscpp_initialize(sys.argv)\n",
                "\n",
                "robot = moveit_commander.RobotCommander()\n",
                "scene = moveit_commander.PlanningSceneInterface()\n",
                "\n",
                "robot.get_group_names()"
            ],
            "outputs": [
                {
                    "output_type": "execute_result",
                    "data": {
                        "text/plain": [
                            "['endeffector', 'manipulator']"
                        ]
                    },
                    "metadata": {},
                    "execution_count": 6
                }
            ],
            "metadata": {}
        },
        {
            "cell_type": "code",
            "execution_count": 7,
            "source": [
                "group_name = robot.get_group_names()\n",
                "move_group = moveit_commander.MoveGroupCommander(group_name[1])\n",
                "planning_frame = move_group.get_planning_frame()\n",
                "planning_frame"
            ],
            "outputs": [
                {
                    "output_type": "execute_result",
                    "data": {
                        "text/plain": [
                            "'world'"
                        ]
                    },
                    "metadata": {},
                    "execution_count": 7
                }
            ],
            "metadata": {}
        },
        {
            "cell_type": "code",
            "execution_count": 8,
            "source": [
                "eef_link = move_group.get_end_effector_link()\n",
                "eef_link"
            ],
            "outputs": [
                {
                    "output_type": "execute_result",
                    "data": {
                        "text/plain": [
                            "'ee_link'"
                        ]
                    },
                    "metadata": {},
                    "execution_count": 8
                }
            ],
            "metadata": {}
        },
        {
            "cell_type": "code",
            "execution_count": 9,
            "source": [
                "robot.get_current_state()"
            ],
            "outputs": [
                {
                    "output_type": "execute_result",
                    "data": {
                        "text/plain": [
                            "joint_state: \n",
                            "  header: \n",
                            "    seq: 0\n",
                            "    stamp: \n",
                            "      secs: 0\n",
                            "      nsecs:         0\n",
                            "    frame_id: \"world\"\n",
                            "  name: [shoulder_pan_joint, shoulder_lift_joint, elbow_joint, wrist_1_joint, wrist_2_joint,\n",
                            "  wrist_3_joint]\n",
                            "  position: [-0.0001802458460469225, -1.5706205612550432, 5.9090278967666165e-05, -1.570753094114492, -4.582328425151161e-06, -4.2214655862515826e-05]\n",
                            "  velocity: []\n",
                            "  effort: []\n",
                            "multi_dof_joint_state: \n",
                            "  header: \n",
                            "    seq: 0\n",
                            "    stamp: \n",
                            "      secs: 0\n",
                            "      nsecs:         0\n",
                            "    frame_id: \"world\"\n",
                            "  joint_names: []\n",
                            "  transforms: []\n",
                            "  twist: []\n",
                            "  wrench: []\n",
                            "attached_collision_objects: []\n",
                            "is_diff: False"
                        ]
                    },
                    "metadata": {},
                    "execution_count": 9
                }
            ],
            "metadata": {}
        },
        {
            "cell_type": "code",
            "execution_count": 10,
            "source": [
                "move_group.set_named_target(\"up\")\n",
                "plan = move_group.plan()\n",
                "move_group.execute(plan, wait= True)"
            ],
            "outputs": [
                {
                    "output_type": "execute_result",
                    "data": {
                        "text/plain": [
                            "True"
                        ]
                    },
                    "metadata": {},
                    "execution_count": 10
                }
            ],
            "metadata": {}
        },
        {
            "cell_type": "code",
            "execution_count": 11,
            "source": [
                "def move_joints(move_group,goal):\n",
                "    move_group.go(goal,wait=True)\n",
                "    move_group.stop()\n",
                "def get_joint_state(move_group):\n",
                "    joint_state = move_group.get_current_joint_values()\n",
                "    print (\"--> current joint state as follows(rad) :\")\n",
                "    print( joint_state)\n",
                "    print (\"--> current joint state as follows (degree) :\")\n",
                "    print( joint*180/math.pi for joint in joint_state)"
            ],
            "outputs": [],
            "metadata": {}
        },
        {
            "cell_type": "code",
            "execution_count": 13,
            "source": [
                "#6개의 조인트에 각각 명령 인가해 보기\n",
                "import math\n",
                "get_joint_state(move_group)\n",
                "\n",
                "goal = [n*math.pi/180 for n in [90. , -100. , 90. , 100. , -90. , 0.]]\n",
                "\n",
                "move_joints(move_group , goal)\n",
                "get_joint_state(move_group)\n"
            ],
            "outputs": [
                {
                    "output_type": "stream",
                    "name": "stdout",
                    "text": [
                        "--> current joint state as follows(rad) :\n",
                        "[1.5707961306728402, -1.7452715723403252, 1.5707673973572218, 1.7452864310883722, -1.5707795595131406, 2.5749538957065e-05]\n",
                        "--> current joint state as follows (degree) :\n",
                        "<generator object <genexpr> at 0x7f6f183d0d20>\n",
                        "--> current joint state as follows(rad) :\n",
                        "[1.5707961306728402, -1.7452715723403252, 1.5707673973572227, 1.7452864310883722, -1.5707795595131397, 2.5749538955288642e-05]\n",
                        "--> current joint state as follows (degree) :\n",
                        "<generator object <genexpr> at 0x7f6ef87d34b0>\n"
                    ]
                }
            ],
            "metadata": {}
        },
        {
            "cell_type": "code",
            "execution_count": 14,
            "source": [
                "# end effector의 위치와 자세 가져오기\n",
                "\n",
                "def get_goal_pose(move_group):\n",
                "    joint_state = move_group.get_current_pose()\n",
                "    print( joint_state)\n",
                "\n",
                "get_goal_pose(move_group)\n"
            ],
            "outputs": [
                {
                    "output_type": "stream",
                    "name": "stdout",
                    "text": [
                        "header: \n",
                        "  seq: 0\n",
                        "  stamp: \n",
                        "    secs: 1145\n",
                        "    nsecs: 922000000\n",
                        "  frame_id: \"world\"\n",
                        "pose: \n",
                        "  position: \n",
                        "    x: -0.109151337219\n",
                        "    y: 0.217865328679\n",
                        "    z: 0.658107611026\n",
                        "  orientation: \n",
                        "    x: 0.50000571401\n",
                        "    y: -0.50000132109\n",
                        "    z: 0.500007062498\n",
                        "    w: 0.499985902119\n"
                    ]
                }
            ],
            "metadata": {}
        },
        {
            "cell_type": "code",
            "execution_count": 15,
            "source": [
                "import geometry_msgs.msg\n",
                "\n",
                "pose_goal = geometry_msgs.msg.Pose()\n",
                "\n",
                "pose_goal.position.x = -0.109\n",
                "pose_goal.position.y = 0.417\n",
                "pose_goal.position.z = 0.618\n",
                "\n",
                "pose_goal.orientation.x = -0.3535\n",
                "pose_goal.orientation.y = 0.3535\n",
                "pose_goal.orientation.z = 0.6123\n",
                "pose_goal.orientation.w = 0.6124\n",
                "move_group.set_pose_target(pose_goal) "
            ],
            "outputs": [],
            "metadata": {}
        }
    ],
    "metadata": {
        "orig_nbformat": 4,
        "language_info": {
            "mimetype": "text/x-python",
            "nbconvert_exporter": "python",
            "name": "python",
            "pygments_lexer": "ipython2",
            "version": "2.7.17",
            "file_extension": ".py",
            "codemirror_mode": {
                "version": 2,
                "name": "ipython"
            }
        },
        "kernelspec": {
            "name": "python3",
            "display_name": "Python 2.7.17 64-bit"
        },
        "interpreter": {
            "hash": "767d51c1340bd893661ea55ea3124f6de3c7a262a8b4abca0554b478b1e2ff90"
        }
    },
    "nbformat": 4,
    "nbformat_minor": 2
}